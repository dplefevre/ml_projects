{
 "cells": [
  {
   "cell_type": "markdown",
   "metadata": {},
   "source": [
    "# Film Recommendation with Collaborative Filtering"
   ]
  },
  {
   "cell_type": "markdown",
   "metadata": {},
   "source": [
    "In this notebook I will implement collaborative filtering to generate movie recommendations, using the TMDB dataset and the Surprise library for Python\n",
    "\n",
    "The basic approach is as follows:\n",
    "* Read in \"ratings_small.csv\" to a pandas dataframe\n",
    "* Create a Surprise Reader object, and load the movie ratings into a Surprise Dataset object\n",
    "* Create a Singular Value Decomposition (SVD) model, and train it on the ratings\n",
    "* Generate some new predictions to see how the model performs"
   ]
  },
  {
   "cell_type": "markdown",
   "metadata": {},
   "source": [
    "1. Imports"
   ]
  },
  {
   "cell_type": "code",
   "execution_count": 2,
   "metadata": {},
   "outputs": [],
   "source": [
    "import pandas as pd\n",
    "from surprise import Reader, Dataset, SVD\n",
    "from surprise.model_selection import cross_validate"
   ]
  },
  {
   "cell_type": "markdown",
   "metadata": {},
   "source": [
    "2. Load Data"
   ]
  },
  {
   "cell_type": "code",
   "execution_count": 4,
   "metadata": {},
   "outputs": [
    {
     "data": {
      "text/html": [
       "<div>\n",
       "<style scoped>\n",
       "    .dataframe tbody tr th:only-of-type {\n",
       "        vertical-align: middle;\n",
       "    }\n",
       "\n",
       "    .dataframe tbody tr th {\n",
       "        vertical-align: top;\n",
       "    }\n",
       "\n",
       "    .dataframe thead th {\n",
       "        text-align: right;\n",
       "    }\n",
       "</style>\n",
       "<table border=\"1\" class=\"dataframe\">\n",
       "  <thead>\n",
       "    <tr style=\"text-align: right;\">\n",
       "      <th></th>\n",
       "      <th>userId</th>\n",
       "      <th>movieId</th>\n",
       "      <th>rating</th>\n",
       "      <th>timestamp</th>\n",
       "    </tr>\n",
       "  </thead>\n",
       "  <tbody>\n",
       "    <tr>\n",
       "      <th>0</th>\n",
       "      <td>1</td>\n",
       "      <td>31</td>\n",
       "      <td>2.5</td>\n",
       "      <td>1260759144</td>\n",
       "    </tr>\n",
       "    <tr>\n",
       "      <th>1</th>\n",
       "      <td>1</td>\n",
       "      <td>1029</td>\n",
       "      <td>3.0</td>\n",
       "      <td>1260759179</td>\n",
       "    </tr>\n",
       "    <tr>\n",
       "      <th>2</th>\n",
       "      <td>1</td>\n",
       "      <td>1061</td>\n",
       "      <td>3.0</td>\n",
       "      <td>1260759182</td>\n",
       "    </tr>\n",
       "    <tr>\n",
       "      <th>3</th>\n",
       "      <td>1</td>\n",
       "      <td>1129</td>\n",
       "      <td>2.0</td>\n",
       "      <td>1260759185</td>\n",
       "    </tr>\n",
       "    <tr>\n",
       "      <th>4</th>\n",
       "      <td>1</td>\n",
       "      <td>1172</td>\n",
       "      <td>4.0</td>\n",
       "      <td>1260759205</td>\n",
       "    </tr>\n",
       "  </tbody>\n",
       "</table>\n",
       "</div>"
      ],
      "text/plain": [
       "   userId  movieId  rating   timestamp\n",
       "0       1       31     2.5  1260759144\n",
       "1       1     1029     3.0  1260759179\n",
       "2       1     1061     3.0  1260759182\n",
       "3       1     1129     2.0  1260759185\n",
       "4       1     1172     4.0  1260759205"
      ]
     },
     "execution_count": 4,
     "metadata": {},
     "output_type": "execute_result"
    }
   ],
   "source": [
    "ratings_df = pd.read_csv(\"/Users/daniellefevre/Desktop/kaggle/movie/archive/ratings_small.csv\")\n",
    "ratings_df.head()"
   ]
  },
  {
   "cell_type": "markdown",
   "metadata": {},
   "source": [
    "The Surprise Reader object expects data in a format of **\"user; item; rating\"**, so we will load only these columns from the ratings file into our working dataset"
   ]
  },
  {
   "cell_type": "code",
   "execution_count": 8,
   "metadata": {},
   "outputs": [],
   "source": [
    "reader = Reader()\n",
    "data = Dataset.load_from_df(ratings_df[[\"userId\", \"movieId\", \"rating\"]], reader)\n"
   ]
  },
  {
   "cell_type": "markdown",
   "metadata": {},
   "source": [
    "3. Initialize model"
   ]
  },
  {
   "cell_type": "code",
   "execution_count": 10,
   "metadata": {},
   "outputs": [],
   "source": [
    "svd = SVD()"
   ]
  },
  {
   "cell_type": "code",
   "execution_count": 11,
   "metadata": {},
   "outputs": [
    {
     "data": {
      "text/plain": [
       "{'test_rmse': array([0.89679968, 0.89728831, 0.8960211 , 0.90338517, 0.8871855 ]),\n",
       " 'test_mae': array([0.69296818, 0.69099658, 0.69064104, 0.69212115, 0.68317525]),\n",
       " 'fit_time': (4.375380039215088,\n",
       "  4.341005086898804,\n",
       "  4.3374011516571045,\n",
       "  4.341750621795654,\n",
       "  4.3929078578948975),\n",
       " 'test_time': (0.20064997673034668,\n",
       "  0.1992480754852295,\n",
       "  0.16738200187683105,\n",
       "  0.17335820198059082,\n",
       "  0.12194991111755371)}"
      ]
     },
     "execution_count": 11,
     "metadata": {},
     "output_type": "execute_result"
    }
   ],
   "source": [
    "cross_validate(svd, data, cv = 5, measures = ['RMSE', 'MAE'])"
   ]
  },
  {
   "cell_type": "markdown",
   "metadata": {},
   "source": [
    "The test RMSE is close to 90%, which seems satisfactory for the purpose of movie recommendations"
   ]
  },
  {
   "cell_type": "markdown",
   "metadata": {},
   "source": [
    "4. Build training set and make predictions"
   ]
  },
  {
   "cell_type": "code",
   "execution_count": 14,
   "metadata": {},
   "outputs": [
    {
     "data": {
      "text/plain": [
       "<surprise.prediction_algorithms.matrix_factorization.SVD at 0x7fd3b1418b80>"
      ]
     },
     "execution_count": 14,
     "metadata": {},
     "output_type": "execute_result"
    }
   ],
   "source": [
    "trainset = data.build_full_trainset()\n",
    "svd.fit(trainset)"
   ]
  },
  {
   "cell_type": "markdown",
   "metadata": {},
   "source": [
    "Pick a user and check their ratings:"
   ]
  },
  {
   "cell_type": "code",
   "execution_count": 17,
   "metadata": {},
   "outputs": [
    {
     "data": {
      "text/html": [
       "<div>\n",
       "<style scoped>\n",
       "    .dataframe tbody tr th:only-of-type {\n",
       "        vertical-align: middle;\n",
       "    }\n",
       "\n",
       "    .dataframe tbody tr th {\n",
       "        vertical-align: top;\n",
       "    }\n",
       "\n",
       "    .dataframe thead th {\n",
       "        text-align: right;\n",
       "    }\n",
       "</style>\n",
       "<table border=\"1\" class=\"dataframe\">\n",
       "  <thead>\n",
       "    <tr style=\"text-align: right;\">\n",
       "      <th></th>\n",
       "      <th>userId</th>\n",
       "      <th>movieId</th>\n",
       "      <th>rating</th>\n",
       "      <th>timestamp</th>\n",
       "    </tr>\n",
       "  </thead>\n",
       "  <tbody>\n",
       "    <tr>\n",
       "      <th>744</th>\n",
       "      <td>10</td>\n",
       "      <td>50</td>\n",
       "      <td>5.0</td>\n",
       "      <td>942766420</td>\n",
       "    </tr>\n",
       "    <tr>\n",
       "      <th>745</th>\n",
       "      <td>10</td>\n",
       "      <td>152</td>\n",
       "      <td>4.0</td>\n",
       "      <td>942766793</td>\n",
       "    </tr>\n",
       "    <tr>\n",
       "      <th>746</th>\n",
       "      <td>10</td>\n",
       "      <td>318</td>\n",
       "      <td>4.0</td>\n",
       "      <td>942766515</td>\n",
       "    </tr>\n",
       "    <tr>\n",
       "      <th>747</th>\n",
       "      <td>10</td>\n",
       "      <td>344</td>\n",
       "      <td>3.0</td>\n",
       "      <td>942766603</td>\n",
       "    </tr>\n",
       "    <tr>\n",
       "      <th>748</th>\n",
       "      <td>10</td>\n",
       "      <td>345</td>\n",
       "      <td>4.0</td>\n",
       "      <td>942766603</td>\n",
       "    </tr>\n",
       "    <tr>\n",
       "      <th>749</th>\n",
       "      <td>10</td>\n",
       "      <td>592</td>\n",
       "      <td>3.0</td>\n",
       "      <td>942767328</td>\n",
       "    </tr>\n",
       "    <tr>\n",
       "      <th>750</th>\n",
       "      <td>10</td>\n",
       "      <td>735</td>\n",
       "      <td>4.0</td>\n",
       "      <td>942766974</td>\n",
       "    </tr>\n",
       "    <tr>\n",
       "      <th>751</th>\n",
       "      <td>10</td>\n",
       "      <td>1036</td>\n",
       "      <td>3.0</td>\n",
       "      <td>942767258</td>\n",
       "    </tr>\n",
       "    <tr>\n",
       "      <th>752</th>\n",
       "      <td>10</td>\n",
       "      <td>1089</td>\n",
       "      <td>3.0</td>\n",
       "      <td>942766420</td>\n",
       "    </tr>\n",
       "    <tr>\n",
       "      <th>753</th>\n",
       "      <td>10</td>\n",
       "      <td>1101</td>\n",
       "      <td>2.0</td>\n",
       "      <td>942767328</td>\n",
       "    </tr>\n",
       "    <tr>\n",
       "      <th>754</th>\n",
       "      <td>10</td>\n",
       "      <td>1127</td>\n",
       "      <td>4.0</td>\n",
       "      <td>942767328</td>\n",
       "    </tr>\n",
       "    <tr>\n",
       "      <th>755</th>\n",
       "      <td>10</td>\n",
       "      <td>1196</td>\n",
       "      <td>4.0</td>\n",
       "      <td>942767258</td>\n",
       "    </tr>\n",
       "    <tr>\n",
       "      <th>756</th>\n",
       "      <td>10</td>\n",
       "      <td>1197</td>\n",
       "      <td>4.0</td>\n",
       "      <td>942767258</td>\n",
       "    </tr>\n",
       "    <tr>\n",
       "      <th>757</th>\n",
       "      <td>10</td>\n",
       "      <td>1198</td>\n",
       "      <td>4.0</td>\n",
       "      <td>942767258</td>\n",
       "    </tr>\n",
       "    <tr>\n",
       "      <th>758</th>\n",
       "      <td>10</td>\n",
       "      <td>1200</td>\n",
       "      <td>4.0</td>\n",
       "      <td>942767258</td>\n",
       "    </tr>\n",
       "    <tr>\n",
       "      <th>759</th>\n",
       "      <td>10</td>\n",
       "      <td>1210</td>\n",
       "      <td>4.0</td>\n",
       "      <td>942767258</td>\n",
       "    </tr>\n",
       "    <tr>\n",
       "      <th>760</th>\n",
       "      <td>10</td>\n",
       "      <td>1220</td>\n",
       "      <td>3.0</td>\n",
       "      <td>942767328</td>\n",
       "    </tr>\n",
       "    <tr>\n",
       "      <th>761</th>\n",
       "      <td>10</td>\n",
       "      <td>1240</td>\n",
       "      <td>4.0</td>\n",
       "      <td>942767258</td>\n",
       "    </tr>\n",
       "    <tr>\n",
       "      <th>762</th>\n",
       "      <td>10</td>\n",
       "      <td>1291</td>\n",
       "      <td>4.0</td>\n",
       "      <td>942767258</td>\n",
       "    </tr>\n",
       "    <tr>\n",
       "      <th>763</th>\n",
       "      <td>10</td>\n",
       "      <td>1358</td>\n",
       "      <td>5.0</td>\n",
       "      <td>942766420</td>\n",
       "    </tr>\n",
       "    <tr>\n",
       "      <th>764</th>\n",
       "      <td>10</td>\n",
       "      <td>1423</td>\n",
       "      <td>4.0</td>\n",
       "      <td>942766420</td>\n",
       "    </tr>\n",
       "    <tr>\n",
       "      <th>765</th>\n",
       "      <td>10</td>\n",
       "      <td>1459</td>\n",
       "      <td>3.0</td>\n",
       "      <td>942766725</td>\n",
       "    </tr>\n",
       "    <tr>\n",
       "      <th>766</th>\n",
       "      <td>10</td>\n",
       "      <td>1499</td>\n",
       "      <td>3.0</td>\n",
       "      <td>942766845</td>\n",
       "    </tr>\n",
       "    <tr>\n",
       "      <th>767</th>\n",
       "      <td>10</td>\n",
       "      <td>1611</td>\n",
       "      <td>5.0</td>\n",
       "      <td>942767029</td>\n",
       "    </tr>\n",
       "    <tr>\n",
       "      <th>768</th>\n",
       "      <td>10</td>\n",
       "      <td>1690</td>\n",
       "      <td>3.0</td>\n",
       "      <td>942766679</td>\n",
       "    </tr>\n",
       "    <tr>\n",
       "      <th>769</th>\n",
       "      <td>10</td>\n",
       "      <td>1704</td>\n",
       "      <td>4.0</td>\n",
       "      <td>942766472</td>\n",
       "    </tr>\n",
       "    <tr>\n",
       "      <th>770</th>\n",
       "      <td>10</td>\n",
       "      <td>1719</td>\n",
       "      <td>5.0</td>\n",
       "      <td>942766472</td>\n",
       "    </tr>\n",
       "    <tr>\n",
       "      <th>771</th>\n",
       "      <td>10</td>\n",
       "      <td>1887</td>\n",
       "      <td>2.0</td>\n",
       "      <td>942766845</td>\n",
       "    </tr>\n",
       "    <tr>\n",
       "      <th>772</th>\n",
       "      <td>10</td>\n",
       "      <td>1923</td>\n",
       "      <td>5.0</td>\n",
       "      <td>942766515</td>\n",
       "    </tr>\n",
       "    <tr>\n",
       "      <th>773</th>\n",
       "      <td>10</td>\n",
       "      <td>2108</td>\n",
       "      <td>3.0</td>\n",
       "      <td>942766472</td>\n",
       "    </tr>\n",
       "    <tr>\n",
       "      <th>774</th>\n",
       "      <td>10</td>\n",
       "      <td>2344</td>\n",
       "      <td>5.0</td>\n",
       "      <td>942766991</td>\n",
       "    </tr>\n",
       "    <tr>\n",
       "      <th>775</th>\n",
       "      <td>10</td>\n",
       "      <td>2406</td>\n",
       "      <td>4.0</td>\n",
       "      <td>942767328</td>\n",
       "    </tr>\n",
       "    <tr>\n",
       "      <th>776</th>\n",
       "      <td>10</td>\n",
       "      <td>2410</td>\n",
       "      <td>2.0</td>\n",
       "      <td>942767328</td>\n",
       "    </tr>\n",
       "    <tr>\n",
       "      <th>777</th>\n",
       "      <td>10</td>\n",
       "      <td>2539</td>\n",
       "      <td>4.0</td>\n",
       "      <td>942766845</td>\n",
       "    </tr>\n",
       "    <tr>\n",
       "      <th>778</th>\n",
       "      <td>10</td>\n",
       "      <td>2571</td>\n",
       "      <td>5.0</td>\n",
       "      <td>942766515</td>\n",
       "    </tr>\n",
       "    <tr>\n",
       "      <th>779</th>\n",
       "      <td>10</td>\n",
       "      <td>2826</td>\n",
       "      <td>5.0</td>\n",
       "      <td>942766109</td>\n",
       "    </tr>\n",
       "    <tr>\n",
       "      <th>780</th>\n",
       "      <td>10</td>\n",
       "      <td>2827</td>\n",
       "      <td>3.0</td>\n",
       "      <td>942766251</td>\n",
       "    </tr>\n",
       "    <tr>\n",
       "      <th>781</th>\n",
       "      <td>10</td>\n",
       "      <td>2840</td>\n",
       "      <td>3.0</td>\n",
       "      <td>942766213</td>\n",
       "    </tr>\n",
       "    <tr>\n",
       "      <th>782</th>\n",
       "      <td>10</td>\n",
       "      <td>2841</td>\n",
       "      <td>4.0</td>\n",
       "      <td>942766029</td>\n",
       "    </tr>\n",
       "    <tr>\n",
       "      <th>783</th>\n",
       "      <td>10</td>\n",
       "      <td>2881</td>\n",
       "      <td>3.0</td>\n",
       "      <td>942766164</td>\n",
       "    </tr>\n",
       "    <tr>\n",
       "      <th>784</th>\n",
       "      <td>10</td>\n",
       "      <td>2890</td>\n",
       "      <td>4.0</td>\n",
       "      <td>942765978</td>\n",
       "    </tr>\n",
       "    <tr>\n",
       "      <th>785</th>\n",
       "      <td>10</td>\n",
       "      <td>2907</td>\n",
       "      <td>2.0</td>\n",
       "      <td>942766213</td>\n",
       "    </tr>\n",
       "    <tr>\n",
       "      <th>786</th>\n",
       "      <td>10</td>\n",
       "      <td>2926</td>\n",
       "      <td>5.0</td>\n",
       "      <td>942767121</td>\n",
       "    </tr>\n",
       "    <tr>\n",
       "      <th>787</th>\n",
       "      <td>10</td>\n",
       "      <td>2995</td>\n",
       "      <td>2.0</td>\n",
       "      <td>942766251</td>\n",
       "    </tr>\n",
       "    <tr>\n",
       "      <th>788</th>\n",
       "      <td>10</td>\n",
       "      <td>3005</td>\n",
       "      <td>3.0</td>\n",
       "      <td>942766059</td>\n",
       "    </tr>\n",
       "    <tr>\n",
       "      <th>789</th>\n",
       "      <td>10</td>\n",
       "      <td>3019</td>\n",
       "      <td>4.0</td>\n",
       "      <td>942767571</td>\n",
       "    </tr>\n",
       "  </tbody>\n",
       "</table>\n",
       "</div>"
      ],
      "text/plain": [
       "     userId  movieId  rating  timestamp\n",
       "744      10       50     5.0  942766420\n",
       "745      10      152     4.0  942766793\n",
       "746      10      318     4.0  942766515\n",
       "747      10      344     3.0  942766603\n",
       "748      10      345     4.0  942766603\n",
       "749      10      592     3.0  942767328\n",
       "750      10      735     4.0  942766974\n",
       "751      10     1036     3.0  942767258\n",
       "752      10     1089     3.0  942766420\n",
       "753      10     1101     2.0  942767328\n",
       "754      10     1127     4.0  942767328\n",
       "755      10     1196     4.0  942767258\n",
       "756      10     1197     4.0  942767258\n",
       "757      10     1198     4.0  942767258\n",
       "758      10     1200     4.0  942767258\n",
       "759      10     1210     4.0  942767258\n",
       "760      10     1220     3.0  942767328\n",
       "761      10     1240     4.0  942767258\n",
       "762      10     1291     4.0  942767258\n",
       "763      10     1358     5.0  942766420\n",
       "764      10     1423     4.0  942766420\n",
       "765      10     1459     3.0  942766725\n",
       "766      10     1499     3.0  942766845\n",
       "767      10     1611     5.0  942767029\n",
       "768      10     1690     3.0  942766679\n",
       "769      10     1704     4.0  942766472\n",
       "770      10     1719     5.0  942766472\n",
       "771      10     1887     2.0  942766845\n",
       "772      10     1923     5.0  942766515\n",
       "773      10     2108     3.0  942766472\n",
       "774      10     2344     5.0  942766991\n",
       "775      10     2406     4.0  942767328\n",
       "776      10     2410     2.0  942767328\n",
       "777      10     2539     4.0  942766845\n",
       "778      10     2571     5.0  942766515\n",
       "779      10     2826     5.0  942766109\n",
       "780      10     2827     3.0  942766251\n",
       "781      10     2840     3.0  942766213\n",
       "782      10     2841     4.0  942766029\n",
       "783      10     2881     3.0  942766164\n",
       "784      10     2890     4.0  942765978\n",
       "785      10     2907     2.0  942766213\n",
       "786      10     2926     5.0  942767121\n",
       "787      10     2995     2.0  942766251\n",
       "788      10     3005     3.0  942766059\n",
       "789      10     3019     4.0  942767571"
      ]
     },
     "execution_count": 17,
     "metadata": {},
     "output_type": "execute_result"
    }
   ],
   "source": [
    "ratings_df[ratings_df['userId'] == 10]"
   ]
  },
  {
   "cell_type": "code",
   "execution_count": 20,
   "metadata": {},
   "outputs": [
    {
     "data": {
      "text/plain": [
       "Prediction(uid=10, iid=50, r_ui=5.0, est=4.483867845206662, details={'was_impossible': False})"
      ]
     },
     "execution_count": 20,
     "metadata": {},
     "output_type": "execute_result"
    }
   ],
   "source": [
    "svd.predict(10, 50, 5.0)"
   ]
  },
  {
   "cell_type": "markdown",
   "metadata": {},
   "source": [
    "The model predicts a rating of 4.48 for a movie which this user actually rated 5.0. Not too bad."
   ]
  },
  {
   "cell_type": "code",
   "execution_count": 21,
   "metadata": {},
   "outputs": [
    {
     "data": {
      "text/plain": [
       "Prediction(uid=10, iid=51, r_ui=5.0, est=3.591027324134858, details={'was_impossible': False})"
      ]
     },
     "execution_count": 21,
     "metadata": {},
     "output_type": "execute_result"
    }
   ],
   "source": [
    "svd.predict(10, 51, 5.0)"
   ]
  },
  {
   "cell_type": "markdown",
   "metadata": {},
   "source": [
    "For movie 51, which the user has not reviewed, the model predicts that they would rate it 3.59"
   ]
  },
  {
   "cell_type": "markdown",
   "metadata": {},
   "source": [
    "## Conclusion and Summary"
   ]
  },
  {
   "cell_type": "markdown",
   "metadata": {},
   "source": [
    "We used Pandas and Surprise to implement collaborative filtering via Singular Value Decomposition. The Surprise library makes it possible to create an effective model for content recommendation in only a few lines of code."
   ]
  }
 ],
 "metadata": {
  "kernelspec": {
   "display_name": "Python 3",
   "language": "python",
   "name": "python3"
  },
  "language_info": {
   "codemirror_mode": {
    "name": "ipython",
    "version": 3
   },
   "file_extension": ".py",
   "mimetype": "text/x-python",
   "name": "python",
   "nbconvert_exporter": "python",
   "pygments_lexer": "ipython3",
   "version": "3.8.2"
  }
 },
 "nbformat": 4,
 "nbformat_minor": 4
}
